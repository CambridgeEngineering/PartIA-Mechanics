{
 "cells": [
  {
   "cell_type": "markdown",
   "metadata": {},
   "source": [
    "# Examples Paper 3: Question 6 TEMPLATE\n",
    "\n",
    "\n",
    "The following code is mostly completed for you: press 'shift-enter' in each cell to run the code starting at the top. You will get some errors part of the way through and this is where you need to fill in the gaps."
   ]
  },
  {
   "cell_type": "markdown",
   "metadata": {},
   "source": [
    "Import standard set of modules for scientific computing and plotting [ALREADY COMPLETE]:"
   ]
  },
  {
   "cell_type": "code",
   "execution_count": null,
   "metadata": {},
   "outputs": [],
   "source": [
    "import numpy as np\n",
    "import scipy as sp\n",
    "import math\n",
    "import matplotlib\n",
    "import matplotlib.pyplot as plt"
   ]
  },
  {
   "cell_type": "code",
   "execution_count": null,
   "metadata": {},
   "outputs": [],
   "source": [
    "%matplotlib notebook\n",
    "matplotlib.rcParams.update({'font.size': 12,'font.family':'serif'})"
   ]
  },
  {
   "cell_type": "markdown",
   "metadata": {},
   "source": [
    "Initialise specific numbers for this example [COMPLETE THE GAPS]:"
   ]
  },
  {
   "cell_type": "code",
   "execution_count": null,
   "metadata": {},
   "outputs": [],
   "source": [
    "# Set up some example parameters to test\n",
    "R = 1\n",
    "V0 = 1\n",
    "Omega =  # how is this related to V0?"
   ]
  },
  {
   "cell_type": "markdown",
   "metadata": {},
   "source": [
    "Define the position vector for an arbitrary point on the edge of the wheel [COMPLETE THE GAPS]:"
   ]
  },
  {
   "cell_type": "code",
   "execution_count": null,
   "metadata": {},
   "outputs": [],
   "source": [
    "# Set up time axis\n",
    "N = np.int16(1e2)\n",
    "t = np.linspace(0,10,N)\n",
    "dt = t.max() / (N-1)\n",
    "\n",
    "# Position vector of centre\n",
    "rC = np.zeros([N,2]) # initialise\n",
    "rC[:,0] = V0/R*t     # i component\n",
    "rC[:,1] =            # j component\n",
    "\n",
    "# Position vector of P relative to C (e.g. point on edge of wheel)\n",
    "th = Omega*t\n",
    "rPC = R*np.column_stack([np.cos(th),-np.sin(th)])\n",
    "\n",
    "# Position vector of P in terms of rC and rPC\n",
    "rP = "
   ]
  },
  {
   "cell_type": "markdown",
   "metadata": {},
   "source": [
    "Numerically differentiate to obtain velocity and acceleration [COMPLETE THE GAPS]:"
   ]
  },
  {
   "cell_type": "code",
   "execution_count": null,
   "metadata": {},
   "outputs": [],
   "source": [
    "rPdot  = np.gradient(rP,dt,axis=0)    # the 'axis=0' bit specifies that the gradient should be found over a column (i.e. time)\n",
    "rPddot = np.gradient(\n",
    "\n",
    "absvel = np.sqrt(rPdot[:,0]**2 + rPdot[:,1]**2)   # find absolute value at each time step\n",
    "absacc = np.sqrt(                                 # find absolute value at each time step"
   ]
  },
  {
   "cell_type": "markdown",
   "metadata": {},
   "source": [
    "Plot [ALREADY COMPLETE]:"
   ]
  },
  {
   "cell_type": "code",
   "execution_count": null,
   "metadata": {},
   "outputs": [],
   "source": [
    "plt.figure()\n",
    "plt.grid()\n",
    "plt.xlabel('$x$ (m)')\n",
    "plt.ylabel('$y$ (m)')\n",
    "plt.title(\"R = \"+str(R))\n",
    "\n",
    "plt.plot(rP[:,0],rP[:,1],'-',linewidth=2,color = [0.8, 0, 0])"
   ]
  },
  {
   "cell_type": "markdown",
   "metadata": {},
   "source": [
    "Plot the absolute velocity as a function of time [COMPLETE THE GAPS]:"
   ]
  },
  {
   "cell_type": "code",
   "execution_count": null,
   "metadata": {},
   "outputs": [],
   "source": [
    "plt.figure(figsize=(8,4.5),dpi=100)\n",
    "plt.grid()\n",
    "plt.xlabel('$t$ (s)')\n",
    "plt.ylabel('abs(velocity) (ms$^{-1}$)')\n",
    "plt.title(\"R = \"+str(R)+\", $V_0$ = \"+str(V0))\n",
    "\n",
    "plt.plot("
   ]
  },
  {
   "cell_type": "markdown",
   "metadata": {},
   "source": [
    "Plot the absolute acceleration as a function of time [COMPLETE THE GAPS]:"
   ]
  },
  {
   "cell_type": "code",
   "execution_count": null,
   "metadata": {},
   "outputs": [],
   "source": [
    "plt.figure(figsize=(8,4.5),dpi=100)\n",
    "plt.grid()\n",
    "plt.xlabel('$t$ (s)')\n",
    "plt.ylabel('abs(acceleration) (ms$^{-1}$)')\n",
    "plt.title(\"R = \"+str(R)+\", $V_0$ = \"+str(V0))\n",
    "\n",
    "plt.plot("
   ]
  },
  {
   "cell_type": "markdown",
   "metadata": {
    "collapsed": true
   },
   "source": [
    "### Licence and copyright\n",
    "\n",
    "All material is copyright of Tore Butlin (tb267@cam.ac.uk).\n",
    "\n",
    "All text is made available under the Creative Commons Attribution-ShareAlike 4.0 International Public License (https://creativecommons.org/licenses/by-sa/4.0/legalcode).\n",
    "\n",
    "All computer code is released under the MIT license.\n",
    "\n",
    "The MIT License (MIT) Copyright (c) 2017 Tore Butlin\n",
    "\n",
    "Permission is hereby granted, free of charge, to any person obtaining a copy of this software and associated documentation files (the \"Software\"), to deal in the Software without restriction, including without limitation the rights to use, copy, modify, merge, publish, distribute, sublicense, and/or sell copies of the Software, and to permit persons to whom the Software is furnished to do so, subject to the following conditions:\n",
    "\n",
    "The above copyright notice and this permission notice shall be included in all copies or substantial portions of the Software.\n",
    "\n",
    "THE SOFTWARE IS PROVIDED \"AS IS\", WITHOUT WARRANTY OF ANY KIND, EXPRESS OR IMPLIED, INCLUDING BUT NOT LIMITED TO THE WARRANTIES OF MERCHANTABILITY, FITNESS FOR A PARTICULAR PURPOSE AND NONINFRINGEMENT. IN NO EVENT SHALL THE AUTHORS OR COPYRIGHT HOLDERS BE LIABLE FOR ANY CLAIM, DAMAGES OR OTHER LIABILITY, WHETHER IN AN ACTION OF CONTRACT, TORT OR OTHERWISE, ARISING FROM, OUT OF OR IN CONNECTION WITH THE SOFTWARE OR THE USE OR OTHER DEALINGS IN THE SOFTWARE."
   ]
  },
  {
   "cell_type": "code",
   "execution_count": null,
   "metadata": {},
   "outputs": [],
   "source": []
  }
 ],
 "metadata": {
  "anaconda-cloud": {},
  "kernelspec": {
   "display_name": "Python 3",
   "language": "python",
   "name": "python3"
  },
  "language_info": {
   "codemirror_mode": {
    "name": "ipython",
    "version": 3
   },
   "file_extension": ".py",
   "mimetype": "text/x-python",
   "name": "python",
   "nbconvert_exporter": "python",
   "pygments_lexer": "ipython3",
   "version": "3.6.6"
  }
 },
 "nbformat": 4,
 "nbformat_minor": 1
}
