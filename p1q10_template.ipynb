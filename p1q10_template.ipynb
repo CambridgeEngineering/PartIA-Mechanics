{
 "cells": [
  {
   "cell_type": "markdown",
   "metadata": {},
   "source": [
    "# Examples Paper 1: Question 10 TEMPLATE\n",
    "\n",
    "\n",
    "The following code is mostly completed for you: press 'shift-enter' in each cell to run the code starting at the top. You will get some errors part of the way through and this is where you need to fill in the gaps."
   ]
  },
  {
   "cell_type": "markdown",
   "metadata": {},
   "source": [
    "Import standard set of modules for scientific computing and plotting [ALREADY COMPLETE]:"
   ]
  },
  {
   "cell_type": "code",
   "execution_count": null,
   "metadata": {},
   "outputs": [],
   "source": [
    "import numpy as np\n",
    "import scipy as sp\n",
    "import math\n",
    "import matplotlib\n",
    "import matplotlib.pyplot as plt"
   ]
  },
  {
   "cell_type": "code",
   "execution_count": null,
   "metadata": {
    "collapsed": true
   },
   "outputs": [],
   "source": [
    "%matplotlib inline\n",
    "matplotlib.rcParams.update({'font.size': 12,'font.family':'serif'})"
   ]
  },
  {
   "cell_type": "markdown",
   "metadata": {},
   "source": [
    "Calculate position as a function of time, using $N$ points [COMPLETE THE GAPS]:"
   ]
  },
  {
   "cell_type": "code",
   "execution_count": null,
   "metadata": {
    "collapsed": true
   },
   "outputs": [],
   "source": [
    "N = np.int16(50)       # number of time steps to evaluate solution\n",
    "t = np.linspace(0,1,N) # equally spaced time steps from 0 to 1, using N time steps\n",
    "\n",
    "w = 2*np.pi            # set frequency so period = 1 s, so t spans one period\n",
    "\n",
    "a =                    # choose numbers for a,b according to question\n",
    "b =                    # choose numbers for a,b according to question\n",
    "\n",
    "\n",
    "rBx = a*np.cos(w*t) + np.sqrt(b**2 -   # COMPLETE USING YOUR ANSWER\n",
    "vBx_analytic =                         # COMPLETE USING YOUR ANSWER"
   ]
  },
  {
   "cell_type": "markdown",
   "metadata": {},
   "source": [
    "Numerically differentiate position to estimate velocity [ALREADY COMPLETE]:"
   ]
  },
  {
   "cell_type": "code",
   "execution_count": null,
   "metadata": {
    "collapsed": true
   },
   "outputs": [],
   "source": [
    "dt = t.max() / (N-1)                 # step size based on time axis vector\n",
    "vBx_numerical = np.gradient(rBx,dt)  # numerical gradient of rBx using step size dt"
   ]
  },
  {
   "cell_type": "markdown",
   "metadata": {},
   "source": [
    "Plot [ALREADY COMPLETE]:"
   ]
  },
  {
   "cell_type": "code",
   "execution_count": null,
   "metadata": {
    "collapsed": true
   },
   "outputs": [],
   "source": [
    "plt.figure(figsize=(9.5,6),dpi=100)\n",
    "plt.xlim([0,1])\n",
    "plt.grid()\n",
    "plt.xlabel('$t$ (normalised)')\n",
    "plt.ylabel('$v_B$ (ms$^{-1}$)')\n",
    "plt.title(\"a/b = \"+str(a/b))\n",
    "\n",
    "line_analytic = plt.plot(t,vBx_analytic,'-',linewidth=2,color = [0, 0, 0.8], label='Analytic')\n",
    "line_numerical = plt.plot(t,vBx_numerical,'--',linewidth=2,color = [0.8, 0, 0], label='Numerical')\n",
    "plt.legend()"
   ]
  },
  {
   "cell_type": "markdown",
   "metadata": {},
   "source": [
    "Now find time of minimum and maximum velocity [COMPLETE THE GAPS]:"
   ]
  },
  {
   "cell_type": "code",
   "execution_count": null,
   "metadata": {
    "collapsed": true
   },
   "outputs": [],
   "source": [
    "print(\"Minimum at t = %.2f s\" % t[vBx_analytic.argmin()])\n",
    "print(\"Maximum at t = %.2f s\" % t[vBx_analytic."
   ]
  },
  {
   "cell_type": "markdown",
   "metadata": {
    "collapsed": true
   },
   "source": [
    "### Licence and copyright\n",
    "\n",
    "All material is copyright of Tore Butlin (tb267@cam.ac.uk).\n",
    "\n",
    "All text is made available under the Creative Commons Attribution-ShareAlike 4.0 International Public License (https://creativecommons.org/licenses/by-sa/4.0/legalcode).\n",
    "\n",
    "All computer code is released under the MIT license.\n",
    "\n",
    "The MIT License (MIT) Copyright (c) 2020 Tore Butlin\n",
    "\n",
    "Permission is hereby granted, free of charge, to any person obtaining a copy of this software and associated documentation files (the \"Software\"), to deal in the Software without restriction, including without limitation the rights to use, copy, modify, merge, publish, distribute, sublicense, and/or sell copies of the Software, and to permit persons to whom the Software is furnished to do so, subject to the following conditions:\n",
    "\n",
    "The above copyright notice and this permission notice shall be included in all copies or substantial portions of the Software.\n",
    "\n",
    "THE SOFTWARE IS PROVIDED \"AS IS\", WITHOUT WARRANTY OF ANY KIND, EXPRESS OR IMPLIED, INCLUDING BUT NOT LIMITED TO THE WARRANTIES OF MERCHANTABILITY, FITNESS FOR A PARTICULAR PURPOSE AND NONINFRINGEMENT. IN NO EVENT SHALL THE AUTHORS OR COPYRIGHT HOLDERS BE LIABLE FOR ANY CLAIM, DAMAGES OR OTHER LIABILITY, WHETHER IN AN ACTION OF CONTRACT, TORT OR OTHERWISE, ARISING FROM, OUT OF OR IN CONNECTION WITH THE SOFTWARE OR THE USE OR OTHER DEALINGS IN THE SOFTWARE."
   ]
  },
  {
   "cell_type": "code",
   "execution_count": null,
   "metadata": {
    "collapsed": true
   },
   "outputs": [],
   "source": []
  }
 ],
 "metadata": {
  "anaconda-cloud": {},
  "kernelspec": {
   "display_name": "Python 3",
   "language": "python",
   "name": "python3"
  },
  "language_info": {
   "codemirror_mode": {
    "name": "ipython",
    "version": 3
   },
   "file_extension": ".py",
   "mimetype": "text/x-python",
   "name": "python",
   "nbconvert_exporter": "python",
   "pygments_lexer": "ipython3",
   "version": "3.8.5"
  }
 },
 "nbformat": 4,
 "nbformat_minor": 1
}
