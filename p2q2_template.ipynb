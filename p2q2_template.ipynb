{
 "cells": [
  {
   "cell_type": "markdown",
   "metadata": {},
   "source": [
    "# Examples Paper 2: Question 2 TEMPLATE\n",
    "\n",
    "\n",
    "The following code is mostly completed for you: press 'shift-enter' in each cell to run the code starting at the top. You will get some errors part of the way through and this is where you need to fill in the gaps."
   ]
  },
  {
   "cell_type": "markdown",
   "metadata": {},
   "source": [
    "Import standard set of modules for scientific computing and plotting [ALREADY COMPLETE]:"
   ]
  },
  {
   "cell_type": "code",
   "execution_count": null,
   "metadata": {
    "collapsed": true
   },
   "outputs": [],
   "source": [
    "import numpy as np\n",
    "import scipy as sp\n",
    "import math\n",
    "import matplotlib\n",
    "import matplotlib.pyplot as plt\n",
    "%matplotlib inline\n",
    "matplotlib.rcParams.update({'font.size': 16,'font.family':'serif'})"
   ]
  },
  {
   "cell_type": "markdown",
   "metadata": {},
   "source": [
    "Initialise specific numbers for this example [COMPLETE THE GAPS]:"
   ]
  },
  {
   "cell_type": "code",
   "execution_count": null,
   "metadata": {
    "collapsed": true
   },
   "outputs": [],
   "source": [
    "# Set up some example parameters to test\n",
    "m=1\n",
    "r=1\n",
    "g=\n",
    "\n",
    "# Set up initial conditions\n",
    "th0    = 0\n",
    "thdot0 = "
   ]
  },
  {
   "cell_type": "markdown",
   "metadata": {},
   "source": [
    "Do the numerical integration [COMPLETE THE GAPS]:"
   ]
  },
  {
   "cell_type": "code",
   "execution_count": null,
   "metadata": {
    "collapsed": true
   },
   "outputs": [],
   "source": [
    "# Need to set up time axis to integrate over\n",
    "N = np.int16(1e2)\n",
    "t = np.linspace(0,5,N)\n",
    "dt = t.max() / N\n",
    "\n",
    "# initialise variables\n",
    "th     = np.zeros([N,1])\n",
    "thdot  = \n",
    "thddot = \n",
    "\n",
    "# use the initial conditions from above\n",
    "th[0]    = th0\n",
    "thdot[0] = thdot0\n",
    "\n",
    "# carry out the integration [COMPLETE THE GAPS: CHOOSE WHICH SCHEME TO USE]\n",
    "for k in range(1,N):\n",
    "    thddot[k-1] = -m*g*np.sin(th[k-1])\n",
    "    thdot[k]    = thdot[k-1] + thddot[k-1] * dt\n",
    "    th[k]       = \n",
    "\n",
    "# compute the solution in degrees and also the reaction force [COMPLETE THE GAPS]\n",
    "thdeg = th*180/np.pi\n",
    "reaction_force = m*g*np.cos(th) + "
   ]
  },
  {
   "cell_type": "markdown",
   "metadata": {},
   "source": [
    "Plot [ALREADY COMPLETE]:"
   ]
  },
  {
   "cell_type": "code",
   "execution_count": null,
   "metadata": {
    "collapsed": true
   },
   "outputs": [],
   "source": [
    "plt.figure(figsize=(15,10)) # width, height in inches\n",
    "plt.grid()\n",
    "plt.xlim([0,t.max()])\n",
    "plt.xlabel('$t$ (s)')\n",
    "plt.ylabel('$\\\\theta$ (deg)')\n",
    "plt.title(\"$\\dot{\\\\theta}_0 = $\"+str(thdot0))\n",
    "\n",
    "plt.plot(t,thdeg,'-',linewidth=3,color = [0, 0, 0.8])\n",
    "\n",
    "plt.savefig(\"p2q2.png\",dpi=300);\n",
    "plt.show"
   ]
  },
  {
   "cell_type": "code",
   "execution_count": null,
   "metadata": {
    "collapsed": true
   },
   "outputs": [],
   "source": [
    "plt.figure(figsize=(15,10)) # width, height in inches\n",
    "\n",
    "plt.grid()\n",
    "plt.xlim([0,t.max()])\n",
    "plt.xlabel('$t$ (s)')\n",
    "plt.ylabel('reaction force (N)')\n",
    "plt.title(\"$\\dot{\\\\theta}_0 = $\"+str(thdot0))\n",
    "\n",
    "plt.plot(t,reaction_force,'-',linewidth=3,color = [0, 0, 0.8])\n",
    "\n",
    "plt.savefig(\"p2q2_reaction.png\",dpi=300);\n",
    "plt.show"
   ]
  },
  {
   "cell_type": "markdown",
   "metadata": {
    "collapsed": true
   },
   "source": [
    "### Licence and copyright\n",
    "\n",
    "All material is copyright of Tore Butlin (tb267@cam.ac.uk).\n",
    "\n",
    "All text is made available under the Creative Commons Attribution-ShareAlike 4.0 International Public License (https://creativecommons.org/licenses/by-sa/4.0/legalcode).\n",
    "\n",
    "All computer code is released under the MIT license.\n",
    "\n",
    "The MIT License (MIT) Copyright (c) 2017 Tore Butlin\n",
    "\n",
    "Permission is hereby granted, free of charge, to any person obtaining a copy of this software and associated documentation files (the \"Software\"), to deal in the Software without restriction, including without limitation the rights to use, copy, modify, merge, publish, distribute, sublicense, and/or sell copies of the Software, and to permit persons to whom the Software is furnished to do so, subject to the following conditions:\n",
    "\n",
    "The above copyright notice and this permission notice shall be included in all copies or substantial portions of the Software.\n",
    "\n",
    "THE SOFTWARE IS PROVIDED \"AS IS\", WITHOUT WARRANTY OF ANY KIND, EXPRESS OR IMPLIED, INCLUDING BUT NOT LIMITED TO THE WARRANTIES OF MERCHANTABILITY, FITNESS FOR A PARTICULAR PURPOSE AND NONINFRINGEMENT. IN NO EVENT SHALL THE AUTHORS OR COPYRIGHT HOLDERS BE LIABLE FOR ANY CLAIM, DAMAGES OR OTHER LIABILITY, WHETHER IN AN ACTION OF CONTRACT, TORT OR OTHERWISE, ARISING FROM, OUT OF OR IN CONNECTION WITH THE SOFTWARE OR THE USE OR OTHER DEALINGS IN THE SOFTWARE."
   ]
  },
  {
   "cell_type": "code",
   "execution_count": null,
   "metadata": {
    "collapsed": true
   },
   "outputs": [],
   "source": []
  }
 ],
 "metadata": {
  "anaconda-cloud": {},
  "kernelspec": {
   "display_name": "Python [default]",
   "language": "python",
   "name": "python3"
  },
  "language_info": {
   "codemirror_mode": {
    "name": "ipython",
    "version": 3
   },
   "file_extension": ".py",
   "mimetype": "text/x-python",
   "name": "python",
   "nbconvert_exporter": "python",
   "pygments_lexer": "ipython3",
   "version": "3.5.4"
  }
 },
 "nbformat": 4,
 "nbformat_minor": 1
}
