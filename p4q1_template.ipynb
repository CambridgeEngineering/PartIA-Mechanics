{
 "cells": [
  {
   "cell_type": "markdown",
   "metadata": {},
   "source": [
    "# Examples Paper 4: Question 1 TEMPLATE\n",
    "\n",
    "\n",
    "The following code is mostly completed for you: press 'shift-enter' in each cell to run the code starting at the top. You will get some errors part of the way through and this is where you need to fill in the gaps."
   ]
  },
  {
   "cell_type": "markdown",
   "metadata": {},
   "source": [
    "Import standard set of modules for scientific computing and plotting [ALREADY COMPLETE]:"
   ]
  },
  {
   "cell_type": "code",
   "execution_count": null,
   "metadata": {},
   "outputs": [],
   "source": [
    "import numpy as np\n",
    "import scipy as sp\n",
    "import math\n",
    "import matplotlib\n",
    "import matplotlib.pyplot as plt"
   ]
  },
  {
   "cell_type": "code",
   "execution_count": null,
   "metadata": {
    "collapsed": true
   },
   "outputs": [],
   "source": [
    "%matplotlib notebook\n",
    "matplotlib.rcParams.update({'font.size': 12,'font.family':'serif'})"
   ]
  },
  {
   "cell_type": "markdown",
   "metadata": {},
   "source": [
    "Initialise specific numbers for this example [COMPLETE THE GAPS]:"
   ]
  },
  {
   "cell_type": "code",
   "execution_count": null,
   "metadata": {
    "collapsed": true
   },
   "outputs": [],
   "source": [
    "# Set up some example parameters to test\n",
    "L=1\n",
    "g=9.81\n",
    "\n",
    "# Useful parameters to derive\n",
    "wn = np.sqrt(         # linearised natural frequency as found in part (c)\n",
    "T  = 2*np.pi / wn     # linearised period of oscillation\n",
    "\n",
    "# Set up initial release angle\n",
    "th0 =  "
   ]
  },
  {
   "cell_type": "markdown",
   "metadata": {},
   "source": [
    "Do the numerical integration [COMPLETE THE GAPS]:"
   ]
  },
  {
   "cell_type": "code",
   "execution_count": null,
   "metadata": {
    "collapsed": true
   },
   "outputs": [],
   "source": [
    "# Need to set up time axis to integrate over\n",
    "N = np.int16(1e3)\n",
    "t = np.linspace(0,5*T,N)\n",
    "dt = t.max() / (N-1)\n",
    "\n",
    "# initialise variables\n",
    "th     = np.zeros([N,1])\n",
    "thdot  = \n",
    "thddot = \n",
    "\n",
    "# use the initial conditions from above\n",
    "th[0]    = th0\n",
    "thdot[0] = 0\n",
    "\n",
    "# carry out the integration\n",
    "for k in range(1,N):\n",
    "    thddot[k-1] =                               # from equation of motion\n",
    "    thdot[k]    =                               # chosen numerical integration scheme\n",
    "    th[k]       =                               # chosen numerical integration scheme\n",
    "\n",
    "# compute the solution in degrees\n",
    "thdeg = th*180/np.pi\n"
   ]
  },
  {
   "cell_type": "markdown",
   "metadata": {},
   "source": [
    "Compute analytic linear solution for comparison [ALREADY COMPLETE]:"
   ]
  },
  {
   "cell_type": "code",
   "execution_count": null,
   "metadata": {
    "collapsed": true
   },
   "outputs": [],
   "source": [
    "th_linear = th0 * np.cos(wn*t)\n",
    "th_linear_deg = th_linear * 180/np.pi\n",
    "\n",
    "thdot_linear = th0*wn * np.sin(wn*t)"
   ]
  },
  {
   "cell_type": "markdown",
   "metadata": {},
   "source": [
    "Plot [ALREADY COMPLETE]:"
   ]
  },
  {
   "cell_type": "code",
   "execution_count": null,
   "metadata": {
    "collapsed": true
   },
   "outputs": [],
   "source": [
    "plt.figure(figsize=(9.5,6),dpi=100)\n",
    "plt.grid()\n",
    "plt.xlim([0,t.max()])\n",
    "plt.xlabel('$t$ (s)')\n",
    "plt.ylabel('$\\\\theta$ (deg)')\n",
    "plt.title(\"$\\\\theta_0 = $\"+str(th0*180/np.pi)+\" deg\")\n",
    "\n",
    "\n",
    "plt.plot(t,th_linear_deg,'-',linewidth=2,color = [0, 0, 0.8],label = \"linear analytic solution\")\n",
    "plt.plot(t,thdeg,'-',linewidth=2,color = [0.8, 0, 0],label = \"nonlinear numerical solution\")\n",
    "plt.legend(loc='lower right')"
   ]
  },
  {
   "cell_type": "markdown",
   "metadata": {},
   "source": [
    "Plot [COMPLETE THE GAPS]:"
   ]
  },
  {
   "cell_type": "code",
   "execution_count": null,
   "metadata": {
    "collapsed": true
   },
   "outputs": [],
   "source": [
    "plt.figure(figsize=(9.5,6),dpi=100)\n",
    "\n",
    "plt.grid()\n",
    "plt.xlabel('$\\\\theta$ (rad)')\n",
    "plt.ylabel('$\\dot{\\\\theta}$ (rads)$^{-1}$')\n",
    "plt.title(\"Phase portrait: $\\\\theta_0 = $\"+str(th0*180/np.pi)+\" deg\")\n",
    "\n",
    "plt.plot(th_linear,thdot_linear,'-',linewidth=2,color = [0, 0, 0.8],label = \"linear analytic solution\")\n",
    "plt.plot(\n",
    "plt.legend()"
   ]
  },
  {
   "cell_type": "markdown",
   "metadata": {
    "collapsed": true
   },
   "source": [
    "### Licence and copyright\n",
    "\n",
    "All material is copyright of Tore Butlin (tb267@cam.ac.uk).\n",
    "\n",
    "All text is made available under the Creative Commons Attribution-ShareAlike 4.0 International Public License (https://creativecommons.org/licenses/by-sa/4.0/legalcode).\n",
    "\n",
    "All computer code is released under the MIT license.\n",
    "\n",
    "The MIT License (MIT) Copyright (c) 2020 Tore Butlin\n",
    "\n",
    "Permission is hereby granted, free of charge, to any person obtaining a copy of this software and associated documentation files (the \"Software\"), to deal in the Software without restriction, including without limitation the rights to use, copy, modify, merge, publish, distribute, sublicense, and/or sell copies of the Software, and to permit persons to whom the Software is furnished to do so, subject to the following conditions:\n",
    "\n",
    "The above copyright notice and this permission notice shall be included in all copies or substantial portions of the Software.\n",
    "\n",
    "THE SOFTWARE IS PROVIDED \"AS IS\", WITHOUT WARRANTY OF ANY KIND, EXPRESS OR IMPLIED, INCLUDING BUT NOT LIMITED TO THE WARRANTIES OF MERCHANTABILITY, FITNESS FOR A PARTICULAR PURPOSE AND NONINFRINGEMENT. IN NO EVENT SHALL THE AUTHORS OR COPYRIGHT HOLDERS BE LIABLE FOR ANY CLAIM, DAMAGES OR OTHER LIABILITY, WHETHER IN AN ACTION OF CONTRACT, TORT OR OTHERWISE, ARISING FROM, OUT OF OR IN CONNECTION WITH THE SOFTWARE OR THE USE OR OTHER DEALINGS IN THE SOFTWARE."
   ]
  },
  {
   "cell_type": "code",
   "execution_count": null,
   "metadata": {
    "collapsed": true
   },
   "outputs": [],
   "source": []
  }
 ],
 "metadata": {
  "anaconda-cloud": {},
  "kernelspec": {
   "display_name": "Python 3",
   "language": "python",
   "name": "python3"
  },
  "language_info": {
   "codemirror_mode": {
    "name": "ipython",
    "version": 3
   },
   "file_extension": ".py",
   "mimetype": "text/x-python",
   "name": "python",
   "nbconvert_exporter": "python",
   "pygments_lexer": "ipython3",
   "version": "3.8.5"
  }
 },
 "nbformat": 4,
 "nbformat_minor": 1
}
